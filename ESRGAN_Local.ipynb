{
  "nbformat": 4,
  "nbformat_minor": 0,
  "metadata": {
    "colab": {
      "name": "ESRGAN-Local.ipynb",
      "provenance": [],
      "collapsed_sections": [],
      "machine_shape": "hm",
      "private_outputs": true,
      "include_colab_link": true
    },
    "kernelspec": {
      "name": "python3",
      "display_name": "Python 3"
    },
    "language_info": {
      "name": "python"
    },
    "accelerator": "GPU"
  },
  "cells": [
    {
      "cell_type": "markdown",
      "metadata": {
        "id": "view-in-github",
        "colab_type": "text"
      },
      "source": [
        "<a href=\"https://colab.research.google.com/github/MSFTserver/AI-Colab-Notebooks-Local/blob/main/ESRGAN_Local.ipynb\" target=\"_parent\"><img src=\"https://colab.research.google.com/assets/colab-badge.svg\" alt=\"Open In Colab\"/></a>"
      ]
    },
    {
      "cell_type": "markdown",
      "metadata": {
        "id": "D6HDAdt3tE15"
      },
      "source": [
        "# **ESRGAN for increasing resolution**\n",
        "\n",
        "example: an image with height 500px by width 500px scaled to an image with height 1762px by width 1762px\n",
        "\n",
        "**Edited by [HostsServer](https://github.com/MSFTserver) for local runtime use!**"
      ]
    },
    {
      "cell_type": "code",
      "metadata": {
        "id": "GnpnrLfMV2jU",
        "cellView": "form"
      },
      "source": [
        "#@markdown # **1) Download required Libraries**\n",
        "#@markdown if this fails to a permission error you need to restart jupyter with admin privileges (right click run as admin)\n",
        "# # Clone Real-ESRGAN and enter the Real-ESRGAN\n",
        "!git clone https://github.com/xinntao/Real-ESRGAN.git\n",
        "%cd Real-ESRGAN\n",
        "# Set up the environment\n",
        "!pip install basicsr facexlib gfpgan\n",
        "!pip install -r requirements.txt\n",
        "!python setup.py develop\n",
        "%cd ..\n",
        "import os, shutil"
      ],
      "execution_count": null,
      "outputs": []
    },
    {
      "cell_type": "code",
      "source": [
        "#@markdown # 2) Download Pretrained Models\n",
        "#@markdown 1) Download the [RealESRGAN_x4plus.pth](https://github.com/xinntao/Real-ESRGAN/releases/download/v0.1.0/RealESRGAN_x4plus.pth) pretrained model.\n",
        " \n",
        "#@markdown 2) Save file to where you launched jupyter in location `Real-ESRGAN/experiments/pretrained_models`\n",
        "\n",
        "#@markdown ### run this code block to easily open the foler\n",
        "filename= os.listdir(os.getcwd()+'/Real-ESRGAN/experiments/pretrained_models')\n",
        "os.startfile(os.getcwd()+'/Real-ESRGAN//experiments/pretrained_models')"
      ],
      "metadata": {
        "cellView": "form",
        "id": "BDVxFIhsQMnp"
      },
      "execution_count": null,
      "outputs": []
    },
    {
      "cell_type": "code",
      "metadata": {
        "id": "u1tiyMZJW5td",
        "cellView": "form"
      },
      "source": [
        "#@markdown # 3) Run this block and Upload images\n",
        "#@markdown image should be uploaded to the folder created called `Real-ESRGAN\\upload` where you launched jupyter from\n",
        "%cd Real-ESRGAN\n",
        "\n",
        "upload_folder = 'upload'\n",
        "result_folder = 'results'\n",
        "\n",
        "if os.path.isdir(upload_folder):\n",
        "    shutil.rmtree(upload_folder)\n",
        "if os.path.isdir(result_folder):\n",
        "    shutil.rmtree(result_folder)\n",
        "os.mkdir(upload_folder)\n",
        "os.mkdir(result_folder)\n",
        "filename= os.listdir(os.getcwd()+'/Real-ESRGAN/upload')\n",
        "os.startfile(os.getcwd()+'/Real-ESRGAN/upload/')\n",
        "%cd .."
      ],
      "execution_count": null,
      "outputs": []
    },
    {
      "cell_type": "code",
      "metadata": {
        "id": "XTVL4m_zXqBU",
        "cellView": "form"
      },
      "source": [
        "#@markdown # **4) Run ERSGAN on Uploaded Image**\n",
        "%cd Real-ESRGAN\n",
        "!python inference_realesrgan.py -n RealESRGAN_x4plus -i upload --outscale 4 --half --face_enhance\n",
        "# !python inference_realesrgan.py --model_path experiments/pretrained_models/RealESRGAN_x4plus.pth --input upload --netscale 4 --outscale 3.5 --half --face_enhance\n",
        "%cd .."
      ],
      "execution_count": null,
      "outputs": []
    },
    {
      "cell_type": "code",
      "metadata": {
        "id": "7IMD5vhOYp68",
        "cellView": "form"
      },
      "source": [
        "#@markdown # **5) Compare before ESRGAN and after ESRGAN image** (Optional. You can skip this block if you want to)\n",
        "# utils for visualization\n",
        "import cv2\n",
        "import matplotlib.pyplot as plt\n",
        "def display(img1, img2):\n",
        "  fig = plt.figure(figsize=(25, 10))\n",
        "  ax1 = fig.add_subplot(1, 2, 1) \n",
        "  plt.title('Input image', fontsize=16)\n",
        "  ax1.axis('off')\n",
        "  ax2 = fig.add_subplot(1, 2, 2)\n",
        "  plt.title('Real-ESRGAN output', fontsize=16)\n",
        "  ax2.axis('off')\n",
        "  ax1.imshow(img1)\n",
        "  ax2.imshow(img2)\n",
        "def imread(img_path):\n",
        "  img = cv2.imread(img_path)\n",
        "  img = cv2.cvtColor(img, cv2.COLOR_BGR2RGB)\n",
        "  return img\n",
        "\n",
        "# display each image in the upload folder\n",
        "import os\n",
        "import glob\n",
        "\n",
        "input_folder = 'Real-ESRGAN/upload'\n",
        "result_folder = 'Real-ESRGAN/results'\n",
        "input_list = sorted(glob.glob(os.path.join(input_folder, '*')))\n",
        "output_list = sorted(glob.glob(os.path.join(result_folder, '*')))\n",
        "for input_path, output_path in zip(input_list, output_list):\n",
        "  img_input = imread(input_path)\n",
        "  img_output = imread(output_path)\n",
        "  display(img_input, img_output)"
      ],
      "execution_count": null,
      "outputs": []
    },
    {
      "cell_type": "code",
      "metadata": {
        "id": "lHNHoP8PZJQ7",
        "cellView": "form"
      },
      "source": [
        "#@markdown # **6) Open Super Enhanced Image Folder**\n",
        "import os\n",
        "filename= os.listdir(os.getcwd()+'/Real-ESRGAN/results')\n",
        "os.startfile(os.getcwd()+'/Real-ESRGAN/results/')"
      ],
      "execution_count": null,
      "outputs": []
    },
    {
      "cell_type": "code",
      "source": [
        "# @markdown # Clear GPU memory\n",
        "# @markdown  incase of constant out of memory issues run this code block\n",
        "torch.cuda.empty_cache()\n",
        "import gc\n",
        "gc.collect()"
      ],
      "metadata": {
        "id": "DO1e73fiyhBo",
        "cellView": "form"
      },
      "execution_count": null,
      "outputs": []
    }
  ]
}